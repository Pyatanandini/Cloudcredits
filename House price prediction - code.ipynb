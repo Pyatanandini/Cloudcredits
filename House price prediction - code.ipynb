{
  "nbformat": 4,
  "nbformat_minor": 0,
  "metadata": {
    "colab": {
      "provenance": []
    },
    "kernelspec": {
      "name": "python3",
      "display_name": "Python 3"
    },
    "language_info": {
      "name": "python"
    }
  },
  "cells": [
    {
      "cell_type": "code",
      "execution_count": null,
      "metadata": {
        "id": "wSvv3G6kasyR"
      },
      "outputs": [],
      "source": [
        "# Step 1: Import libraries\n",
        "import numpy as np\n",
        "import pandas as pd\n",
        "import matplotlib.pyplot as plt\n",
        "import seaborn as sns\n",
        "\n",
        "from sklearn.datasets import fetch_california_housing\n",
        "from sklearn.model_selection import train_test_split\n",
        "from sklearn.linear_model import LinearRegression\n",
        "from sklearn.metrics import mean_squared_error, r2_score\n",
        "\n",
        "# Ensure plots show inline\n",
        "%matplotlib inline\n",
        "\n",
        "# Step 2: Load Dataset\n",
        "housing = fetch_california_housing()\n",
        "data = pd.DataFrame(housing.data, columns=housing.feature_names)\n",
        "data['PRICE'] = housing.target\n",
        "\n",
        "# Display first 5 rows\n",
        "print(\"Sample data:\")\n",
        "print(data.head())\n",
        "\n",
        "# Step 3: Exploratory Data Analysis (optional)\n",
        "sns.pairplot(data[['MedInc', 'AveRooms', 'HouseAge', 'PRICE']])\n",
        "plt.suptitle('Feature Relationships', y=1.02)\n",
        "plt.show()\n",
        "\n",
        "# Step 4: Feature Selection\n",
        "X = data[['MedInc', 'HouseAge', 'AveRooms', 'AveBedrms', 'Population', 'AveOccup']]\n",
        "y = data['PRICE']\n",
        "\n",
        "# Step 5: Train-test split\n",
        "X_train, X_test, y_train, y_test = train_test_split(X, y, test_size=0.2, random_state=42)\n",
        "\n",
        "# Step 6: Linear Regression model\n",
        "model = LinearRegression()\n",
        "model.fit(X_train, y_train)\n",
        "\n",
        "# Step 7: Prediction\n",
        "y_pred = model.predict(X_test)\n",
        "\n",
        "# Step 8: Evaluation\n",
        "mse = mean_squared_error(y_test, y_pred)\n",
        "r2 = r2_score(y_test, y_pred)\n",
        "\n",
        "print(f\"\\nMean Squared Error (MSE): {mse:.2f}\")\n",
        "print(f\"R² Score: {r2:.2f}\")\n",
        "\n",
        "# Step 9: Plot actual vs predicted\n",
        "plt.figure(figsize=(8, 6))\n",
        "plt.scatter(y_test, y_pred, alpha=0.5, color='blue')\n",
        "plt.plot([y.min(), y.max()], [y.min(), y.max()], 'r--', lw=2)\n",
        "plt.xlabel(\"Actual Prices\")\n",
        "plt.ylabel(\"Predicted Prices\")\n",
        "plt.title(\"Actual vs Predicted House Prices\")\n",
        "plt.grid(True)\n",
        "plt.show()"
      ]
    }
  ]
}